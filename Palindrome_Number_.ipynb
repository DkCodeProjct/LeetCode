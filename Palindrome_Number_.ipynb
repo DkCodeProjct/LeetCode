{
 "cells": [
  {
   "cell_type": "markdown",
   "metadata": {},
   "source": [
    "# Palindrom Num:\n",
    "\n",
    "Example 1:\n",
    "\n",
    "   + Input: x = 121\n",
    "    \n",
    "   + Output: true\n",
    "    \n",
    "   + Explanation: 121 reads as 121 from left to right and from right to left."
   ]
  },
  {
   "cell_type": "code",
   "execution_count": null,
   "metadata": {},
   "outputs": [],
   "source": [
    "class PalindromeNumbers:\n",
    "    def __init__(self, lst1):\n",
    "        self.lst1 = lst1\n",
    "        self.lst2 = []\n",
    "    \n",
    "    def checkPalindrome(self):\n",
    "        for i in self.lst1[::-1]:  # reversed(lst1) Valid as well\n",
    "            self.lst2.append(i)\n",
    "        \n",
    "        if self.lst1 == self.lst2:\n",
    "            print('True')\n",
    "        \n",
    "        else:\n",
    "            print('False')\n",
    "        "
   ]
  },
  {
   "cell_type": "code",
   "execution_count": 29,
   "metadata": {},
   "outputs": [
    {
     "name": "stdout",
     "output_type": "stream",
     "text": [
      "True\n"
     ]
    },
    {
     "data": {
      "text/plain": [
       "<__main__.PalindromeNumbers at 0x7006c69f0670>"
      ]
     },
     "execution_count": 29,
     "metadata": {},
     "output_type": "execute_result"
    }
   ],
   "source": [
    "ls = [2, 3, 2]\n",
    "pn = PalindromeNumbers(ls)\n",
    "pn.checkPalindrome()\n",
    "pn"
   ]
  },
  {
   "cell_type": "markdown",
   "metadata": {},
   "source": [
    "# TESTING"
   ]
  },
  {
   "cell_type": "code",
   "execution_count": 30,
   "metadata": {},
   "outputs": [],
   "source": [
    "class PalindromeNumbersTest:\n",
    "    def __init__(self, lst1):\n",
    "        self.lst1 = lst1\n",
    "        self.lst2 = []\n",
    "    \n",
    "    def checkPalindrom(self):\n",
    "        for i in self.lst1[::-1]:\n",
    "            self.lst2.append(i)\n",
    "        \n",
    "        return self.lst1 == self.lst2"
   ]
  },
  {
   "cell_type": "code",
   "execution_count": null,
   "metadata": {},
   "outputs": [],
   "source": [
    "def testPalindrome():\n",
    "    assert PalindromeNumbersTest([2,2,2]).checkPalindrom() == True\n",
    "    assert PalindromeNumbersTest([3,2,3]).checkPalindrom() == True\n",
    "    \n",
    "    assert PalindromeNumbersTest([5,2,1]).checkPalindrom() == False\n",
    "    \n",
    "    assert PalindromeNumbersTest([5]).checkPalindrom() ==  True"
   ]
  },
  {
   "cell_type": "code",
   "execution_count": null,
   "metadata": {},
   "outputs": [],
   "source": []
  }
 ],
 "metadata": {
  "kernelspec": {
   "display_name": "Python 3",
   "language": "python",
   "name": "python3"
  },
  "language_info": {
   "codemirror_mode": {
    "name": "ipython",
    "version": 3
   },
   "file_extension": ".py",
   "mimetype": "text/x-python",
   "name": "python",
   "nbconvert_exporter": "python",
   "pygments_lexer": "ipython3",
   "version": "3.10.14"
  }
 },
 "nbformat": 4,
 "nbformat_minor": 2
}
