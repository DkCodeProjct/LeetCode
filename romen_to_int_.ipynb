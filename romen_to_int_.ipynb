{
 "cells": [
  {
   "cell_type": "markdown",
   "metadata": {},
   "source": [
    "For example, 2 is written as II in Roman numeral, just two ones added together. 12 is written as XII, which is simply X + II. The number 27 is written as XXVII, which is XX + V + II.\n",
    "\n",
    "\n",
    "\n",
    " + Roman numerals are usually written largest to smallest from left to right. However, the numeral for four is not IIII. Instead, the number four is written as IV. Because the one is before the five we subtract it making four. The same principle applies to the number nine, which is written as IX. There are six instances where subtraction is used:\n",
    "\n",
    "\n",
    "            I can be placed before V (5) and X (10) to make 4 and 9. \n",
    "            \n",
    "            X can be placed before L (50) and C (100) to make 40 and 90. \n",
    "            \n",
    "            C can be placed before D (500) and M (1000) to make 400 and 900.\n",
    "            \n",
    "\n",
    "  + Given a roman numeral, convert it to an integer.\n",
    "\n",
    "\n",
    "\n",
    "#### Example 1:\n",
    "        Input: s = \"III\"\n",
    "        \n",
    "        Output: 3\n",
    "        \n",
    "        Explanation: III = 3.\n",
    "\n",
    "\n",
    "#### Example 2:\n",
    "        Input: s = \"LVIII\"\n",
    "        \n",
    "        Output: 58\n",
    "        \n",
    "        Explanation: L = 50, V= 5, III = 3.\n",
    "\n",
    "### Constraints:\n",
    "   \n",
    "   + 1 <= s.length <= 15\n",
    "    \n",
    "    \n",
    "   + s contains only the characters ('I', 'V', 'X', 'L', 'C', 'D', 'M').\n",
    "\n",
    "\n",
    "   + It is guaranteed that s is a valid roman numeral in the range [1, 3999]."
   ]
  },
  {
   "cell_type": "code",
   "execution_count": null,
   "metadata": {},
   "outputs": [],
   "source": [
    "romenToint = {\n",
    "   \"I\" : 1,\n",
    "   \"V\" : 5,\n",
    "   \"X\" : 10,\n",
    "   \"L\" : 50,\n",
    "   \"C\" : 100,\n",
    "   \"D\" : 500,\n",
    "   \"M\" : 1000,\n",
    "}\n",
    "\n",
    "validStr = ['I', 'V', 'X', 'L', 'C', 'D', 'M']\n"
   ]
  },
  {
   "cell_type": "code",
   "execution_count": null,
   "metadata": {},
   "outputs": [
    {
     "name": "stdout",
     "output_type": "stream",
     "text": [
      "1100\n"
     ]
    }
   ],
   "source": [
    "def fnValid(user):\n",
    "    val = ['I', 'V', 'X', 'L', 'C', 'D', 'M']\n",
    "    if all(char in val for char in user):\n",
    "        return True\n",
    "    \n",
    "    else:\n",
    "        print('invalid str')\n",
    "        return False\n",
    "\n",
    "def fnConvert(rmn2int, user):\n",
    "    i = 0\n",
    "    total = 0\n",
    "    if fnValid(user):\n",
    "        while i < len(user):\n",
    "            if i < len(user) - 1 and rmn2int[user[i]] < rmn2int[user[i+1]]:\n",
    "                total += rmn2int[user[i+1]] - rmn2int[user[i]]\n",
    "                i += 2 #subtractive notation.\n",
    "            \n",
    "            else:\n",
    "                total += rmn2int[user[i]]\n",
    "                i += 1\n",
    "        if total >= 1 and total <= 3999:\n",
    "            return total\n",
    "        \n",
    "        print('invalid range')\n",
    "    \n",
    "    else:\n",
    "        return None\n",
    "\n",
    "print(fnConvert(romenToint, 'MC'))\n"
   ]
  },
  {
   "cell_type": "code",
   "execution_count": 56,
   "metadata": {},
   "outputs": [
    {
     "name": "stdout",
     "output_type": "stream",
     "text": [
      "3\n"
     ]
    }
   ],
   "source": [
    "class RomenToInt:\n",
    "    def __init__(self):\n",
    "        self.romen2int = {\n",
    "        \"I\" : 1,\n",
    "        \"V\" : 5,\n",
    "        \"X\" : 10,\n",
    "        \"L\" : 50,\n",
    "        \"C\" : 100,\n",
    "        \"D\" : 500,\n",
    "        \"M\" : 1000,\n",
    "        }\n",
    "        \n",
    "        self.valStr = ['I', 'V', 'X', 'L', 'C', 'D', 'M']\n",
    "    \n",
    "    def fnValidStr(self, user):\n",
    "        if all(char in self.valStr for char in user):\n",
    "            return True\n",
    "        \n",
    "        else:\n",
    "            return False\n",
    "    \n",
    "    def fnConvert(self, user):\n",
    "        i = 0\n",
    "        total = 0\n",
    "\n",
    "        if not self.fnValidStr(user):\n",
    "            return None \n",
    "\n",
    "        while i < len(user):\n",
    "            if i < len(user) -1 and self.romen2int[user[i]] < self.romen2int[user[i+1]]:\n",
    "                total += self.romen2int[user[i+1]] - self.romen2int[user[i]]\n",
    "                i += 2\n",
    "            \n",
    "            else:\n",
    "                total += self.romen2int[user[i]]\n",
    "                i += 1\n",
    "        \n",
    "        if total >= 1 and total <= 3999:\n",
    "            return total\n",
    "        \n",
    "        print('invalid range')\n",
    "\n",
    "cls = RomenToInt()\n",
    "out = cls.fnConvert('III')\n",
    "print(out)\n",
    "\n"
   ]
  },
  {
   "cell_type": "code",
   "execution_count": null,
   "metadata": {},
   "outputs": [],
   "source": []
  }
 ],
 "metadata": {
  "kernelspec": {
   "display_name": "Python 3",
   "language": "python",
   "name": "python3"
  },
  "language_info": {
   "codemirror_mode": {
    "name": "ipython",
    "version": 3
   },
   "file_extension": ".py",
   "mimetype": "text/x-python",
   "name": "python",
   "nbconvert_exporter": "python",
   "pygments_lexer": "ipython3",
   "version": "3.10.14"
  }
 },
 "nbformat": 4,
 "nbformat_minor": 2
}
