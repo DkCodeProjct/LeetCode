{
 "cells": [
  {
   "cell_type": "markdown",
   "metadata": {},
   "source": [
    "# ________________________________________________________________________________"
   ]
  },
  {
   "cell_type": "markdown",
   "metadata": {},
   "source": [
    "# Spliting and Mapping / token to id "
   ]
  },
  {
   "cell_type": "code",
   "execution_count": null,
   "metadata": {},
   "outputs": [
    {
     "data": {
      "text/plain": [
       "{'who': 0, 'is': 1, 'jaques': 2, 'lacan': 3, '<E>': 4}"
      ]
     },
     "execution_count": 13,
     "metadata": {},
     "output_type": "execute_result"
    }
   ],
   "source": [
    "\n",
    "#wordDict = {}\n",
    "#ix = 0\n",
    "#\n",
    "#for word in prompt:\n",
    "#    words = word.split(' ')\n",
    "#    words.append('<E>')\n",
    "#    for w in words:\n",
    "#        wordDict[w] = ix\n",
    "#        ix += 1\n",
    "#wordDict\n",
    "\n"
   ]
  },
  {
   "cell_type": "code",
   "execution_count": 37,
   "metadata": {},
   "outputs": [
    {
     "name": "stdout",
     "output_type": "stream",
     "text": [
      "{'who': 0, 'is': 1, 'jaques': 2, 'lacan': 3, '<E>': 4}\n",
      "{'lacan': 0, 'is': 1, 'a': 2, 'psycoanalyst': 3, '<E>': 4}\n"
     ]
    }
   ],
   "source": [
    "def tokenToId(prompt):\n",
    "    mapDict = {}\n",
    "    ix = 0\n",
    "    for word in prompt:\n",
    "        words = word.split(' ')\n",
    "        words.append('<E>')\n",
    "        for w in words:\n",
    "            mapDict[w] = ix\n",
    "            ix += 1\n",
    "    return mapDict\n",
    "\n",
    "\n",
    "prompt = ['who is jaques lacan']\n",
    "label = ['lacan is a psycoanalyst']\n",
    "\n",
    "print(tokenToId(prompt))\n",
    "print(tokenToId(label))"
   ]
  },
  {
   "cell_type": "markdown",
   "metadata": {},
   "source": [
    "# ________________________________________________________________________________"
   ]
  },
  {
   "cell_type": "code",
   "execution_count": null,
   "metadata": {},
   "outputs": [],
   "source": []
  }
 ],
 "metadata": {
  "kernelspec": {
   "display_name": "Python 3",
   "language": "python",
   "name": "python3"
  },
  "language_info": {
   "codemirror_mode": {
    "name": "ipython",
    "version": 3
   },
   "file_extension": ".py",
   "mimetype": "text/x-python",
   "name": "python",
   "nbconvert_exporter": "python",
   "pygments_lexer": "ipython3",
   "version": "3.10.14"
  }
 },
 "nbformat": 4,
 "nbformat_minor": 2
}
